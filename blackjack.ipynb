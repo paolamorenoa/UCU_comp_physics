import numpy as np
import time 

# function to create string representing a card
def blackjackString(card):
    """ This function returns a string representing one row representing 
        one card as output.
    """
    # first element is rank
    if card[0]==1: # 1 is Ace
        rank = 'A'
    elif card[0]==10: # 10 is X so there is only two characters in the string
        rank = 'X'
    elif card[0]==11: # 11 is Jack
        rank = 'J'
    elif card[0]==12: # 12 is Queen
        rank = 'Q'
    elif card[0]==13: # 11 is King
        rank = 'K'
    else:
        rank = str(card[0])
 
    # second element is suit
    if card[1]==0: # 0 = "Clubs"
        suit = "\u2663"
    elif card[1]==1: # 1 = "Diamonds"
        suit = "\u2666"
    elif card[1]==2: # 2 = "Hearts"
        suit = "\u2665"  
    elif card[1]==3: # 3 = "Spades"
        suit = "\u2660"   
    
    return suit + rank


# High or Low Game

# print text with instructions
print("Welcome to this Higher or Lower game!")
time.sleep(1)
print("You will be given a card and asked to guess whether you think the next one will be higher or lower.")
print("If you guess correctly or the values of the cards are equal, you will earn a point.")
time.sleep(3)
print("Best of luck!")
time.sleep(1)

# new deck of cards (shuffle)
rank = np.array([np.arange(1,14)] *4)
rank = rank.reshape(52,1)
suit = np.array([np.arange(0,4)] * 13)
suit = suit.reshape(52,1)
deck = np.concatenate((rank,suit), axis=1)


highscore = 0 # define highscore so it can later increase and get printed

# loop over multiple games as long as player says yes, they do want to play again, at the end
while True:
    np.random.shuffle(deck) # shuffle deck so cards change every round
    score = 0 # define score so it can later increase and/or get printed

    print("\nThe first card is: %s" % blackjackString(deck[score])) # display the first card of the deck as 2 character string to the user

    # while the user predicts correctly and there are still cards in the deck (score is not equal to 51, last card in deck)
    while True and score !=51:
        choice = input("Will the next card be higher or lower? ") 
        if choice[0].lower() not in ["h","l"]: # first letter h or l, so spelling mistakes don't ruin program, .lower() so uppercase also accepted
            print("What you entered is not an option. Please retry!") # if invalid input, asked to try again
            choice = input("Will the next card be higher or lower? ") 
            if choice[0].lower() not in ["h","l"]:
                break # if something invalid is entered again, the user loses and is asked if they want to play again (while loop stops)
        print("The next card picked is: %s" % blackjackString(deck[score+1])) # prints next card in deck
        time.sleep(0.1) # 0.1 sec break for more user-friendly output
        if choice[0].lower() == "h" and deck[score+1][0] > deck[score][0]: # if user entered higher (or similar variant) and the new card is indeed higher
            print("Correct!") # user is told they answered correctly
            score = score + 1 # increase score because user was correct
            time.sleep(1)
            print("Your score is now:", score) # new score presented to user
        elif choice[0].lower() == "h" and deck[score+1][0] < deck[score][0]: # if user entered higher (or similar variant) and the new card is lower instead
            print("Wrong!") # user is told they answered incorrectly 
            break # and while loop stops
        elif choice[0].lower() == "l" and deck[score+1][0] < deck[score][0]: # if user entered lower (or similar variant) and the new card is indeed lower
            print("Correct!") # user is told they answered correctly
            score = score + 1 # increase score because user was correct
            time.sleep(1)
            print("Your score is now:", score) # new score presented to user
        elif choice[0].lower() == "l" and deck[score+1][0] > deck[score][0]: # if user entered lower (or similar variant) and the new card is higher instead
            print("Wrong!") # user is told they answered incorrectly 
            break # and while loop stops
        else: 
            print("Draw! Try again!") # otherwise, it is a draw
            score = score + 1 # a point is added to the score
        
        if score == 51: # if score is 51, the player will most likely have gone through the entire deck (in case of no draws) so
            print("You have gone through the deck, you win unequivocally! Nice job!") # they win
            highscore = 51 # highest score is then 51
    
    if score == 51: # if score is 51
        break # end while loop 
    else: 
        print("You lost!") # otherwise, while loop ended because user lost
        time.sleep(3)
        print("Your score was:", score) # presents user's score at end of this round
    if score > highscore: # if this round's score is greater than previous highscore, make score new highscore
        highscore = score
        time.sleep(1)
        
    print("\nYour highest score this game is:", highscore) # print high score this game
    time.sleep(2)
    if input("\nDo you want to play again? ").lower() not in ["y", "yes"]: # ask user if they want to continue playing
        break # if response is not 'y', 'yes' (capitalized or not), while loop ends and game ends entirely, end of while loop
time.sleep(0.1)
print("\nBye bye, it was fun playing with you!")
print("\nYour highest score this game was:", highscore) # presents user's best score this game

def blackjackValue(hand):
    """ This function returns value of a hand.
    """
    value = 0 # define variable value to start so it can be referenced later
    for x in range(len(hand)): # loop for as many cards as there are in hand
        if hand[x][0]==1: # if card is ace(1)
            if value >= 11:  # value is already larger than 11
                value +=1 # only add one to it
            else:
                value += 11 # otherwise value of ace is 11
        elif hand[x][0]== 11 or hand[x][0]== 12 or hand[x][0]==13: # if card is jack(11), queen(12), or king(13)
            value += 10 # value added is 10
        else: # all other cases, value is the number in rank
            value += hand[x][0] 
    return value 

def playBlackJack():
    ''' This function plays one round of Blackjack!
    '''
        # two cards are dealt to dealer (first and second card in deck)
    index = 0 # index starts at 0 (first card)
    i = index # redefine as 'i' so i can add one and make into second card 
    index += 1 # add 1 for second card
    dealerHand = (deck[i], deck[index]) # dealer hand is first two cards in deck
    current_dealerHand = "%s" % blackjackString(deck[i]) + "\t%s" % blackjackString(deck[index]) # dealer hand string
    
    
    # next two cards are dealt to the player, same process as previously with dealer
    index += 1
    i = index
    index += 1
    playerHand = (deck[i], deck[index])
    current_playerHand = "%s" % blackjackString(deck[i]) + "\t%s" % blackjackString(deck[index])
    
    print("dealer:  ?? \t??") # dealer's card unknown to player
    print("player: ", (current_playerHand)) # show player's card
    print("The value of your cards is: ", blackjackValue(playerHand)) # show value of player's hand

    
        # if dealer has a blackjack, immediate loss and game ends
    if blackjackValue(dealerHand) == 21:
        print("\nThe dealer's cards are: ", current_dealerHand) # show user dealer's cards
        print("The dealer's hand is a Blackjack! You lose!")
        time.sleep(2.5)

    # if player has a blackjack, immediate win and game ends
    if blackjackValue(playerHand) == 21:
        print("Your hand is a Blackjack! You win!")

    # while loop ask player if they want another card until don't say yes
    while True and blackjackValue(playerHand) != 21 and blackjackValue(dealerHand) != 21: 
        if input("\nWould you like another card? ").lower() not in ["y", "yes"]:
            break # break loop if not yes or y (capitalized or not)
        index += 1 # add 1 to index for next card
        print("\nplayer: ", current_playerHand, "\t%s" % blackjackString(deck[index])) # present previous cards plus new one
        current_playerHand += "\t%s" % blackjackString(deck[index]) # add new card to hand
        #tuples cannot be appended
        playerHand = list(playerHand) # convert to list
        playerHand.append(deck[index]) # add new card to list
        playerHand = tuple(playerHand) # convert back to tuple
        time.sleep(0.1)
        print("\nThe value of your cards is now: ", blackjackValue(playerHand)) # show user new value in hand
        if blackjackValue(playerHand) > 21: # if value of their hand is now greater than 21, they lose
            time.sleep(1)
            print("\nThe value of your hand went over 21. You lost!")
            break # game ends, lost
        elif blackjackValue(playerHand) == 21: # if player has a 21 value hand, they win
            print("Your hand is now equal to 21! You win!")
            break # game ends, won

    # dealer now draws cards
    while blackjackValue(dealerHand) < blackjackValue(playerHand) and blackjackValue(playerHand) < 21: # dealer continues to draw cards until the value of their hand is greater than that of player, blackjackValue(playerHand) < 21 because if playerHand is greater, game is over 
        index += 1 # increase index for new card
        current_dealerHand += "\t%s" % blackjackString(deck[index]) # add new card to dealerHand string
        # same process to add to tuple as above with playerHand
        dealerHand = list(dealerHand) 
        dealerHand.append(deck[index])
        dealerHand = tuple(dealerHand)
    if blackjackValue(dealerHand) > 21 and blackjackValue(playerHand) < 21: # if value of dealer's hand value exceeds 21, user wins (again, if playerHand value exceeds value, game is over)
        print("\nThe dealer's cards are: ", current_dealerHand) # show dealer cards
        time.sleep(1)
        print("\nThe value of the dealer's hand is:", blackjackValue(dealerHand)) # show dealer cards' value
        time.sleep(0.5)
        print("This means the value of the dealer's hand is over 21. You won!") # user wins
        time.sleep(1)
    elif blackjackValue(dealerHand) < 21 and blackjackValue(playerHand) < 21 and blackjackValue(dealerHand) != blackjackValue(playerHand): # dealerHand value less than 21, has a different value than playerHand and playerHand has not gone over 21
        print("\nThe dealer's cards are: ", current_dealerHand) # show dealer cards
        time.sleep(1)
        print("The value of the dealer's hand is:", blackjackValue(dealerHand)) # show dealer cards's value
        time.sleep(0.5)
        print("This means the dealer's hand is closer to 21. You lost!") # user loses
        time.sleep(1)
    elif blackjackValue(dealerHand) == 21: # if dealer has a 21 value hand
        print("\nThe dealer's cards are: ", current_dealerHand) # show dealer cards
        time.sleep(1)
        print("The dealer's hand is now equal to 21! You lose!") # user loses
        time.sleep(2.5)
    elif blackjackValue(dealerHand) == blackjackValue(playerHand): # if values of dealer and player equal
        print("\nThe dealer's cards are: ", current_dealerHand) # show dealer cards
        print("The value of the dealer's hand is:", blackjackValue(dealerHand)) # show dealer cards's value
        time.sleep(1)
        print("Your hand is equal to that of the dealer. Draw!") # draw

# Blackjack Game

# print text with instructions
print("Welcome to this BlackJack game!")
time.sleep(1)
print("You will get two cards and the dealer will get two cards.")
time.sleep(1.5)
print("You will both aim to get as close to 21 as possible, without going over.")
time.sleep(1.5)
print("Ask for more cards in order to achieve this goal. \nWhoever is closest to 21 without going over wins.\n")
time.sleep(2)


# make deck of cards
rank = np.array([np.arange(1,14)] *4)
rank = rank.reshape(52,1)
suit = np.array([np.arange(0,4)] * 13)
suit = suit.reshape(52,1)
deck = np.concatenate((rank,suit), axis=1)


# while loop starting game, ends if playes does not type yes at "Do you want to play again?"
while True:
    np.random.shuffle(deck) #shuffle deck

    playBlackJack() # Blackjack game
        
    if input("\nDo you want to play again? ").lower() not in ["y", "yes"]: #end of 1st while loop, if no 'yes' or 'y' ends game
        break

time.sleep(1)
print("\nBye bye, it was fun playing with you!")
